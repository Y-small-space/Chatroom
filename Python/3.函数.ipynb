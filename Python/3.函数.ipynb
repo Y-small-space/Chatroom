{
 "cells": [
  {
   "cell_type": "code",
   "execution_count": 1,
   "metadata": {},
   "outputs": [
    {
     "name": "stdout",
     "output_type": "stream",
     "text": [
      "字符串str的长度为10\n"
     ]
    }
   ],
   "source": [
    "count = 0\n",
    "str = 'dawdwadwad'\n",
    "\n",
    "for i in str:\n",
    "    count += 1\n",
    "\n",
    "print(f\"字符串str的长度为{count}\")"
   ]
  },
  {
   "cell_type": "code",
   "execution_count": 4,
   "metadata": {},
   "outputs": [
    {
     "name": "stdout",
     "output_type": "stream",
     "text": [
      "dawdwadwad字符串的长度为10\n"
     ]
    }
   ],
   "source": [
    "def my_len(data):\n",
    "    count = 0\n",
    "    for i in data:\n",
    "        count += 1\n",
    "    print(f\"{data}字符串的长度为{count}\")\n",
    "\n",
    "my_len(str)"
   ]
  },
  {
   "cell_type": "code",
   "execution_count": null,
   "metadata": {},
   "outputs": [],
   "source": []
  }
 ],
 "metadata": {
  "kernelspec": {
   "display_name": "Python 3",
   "language": "python",
   "name": "python3"
  },
  "language_info": {
   "codemirror_mode": {
    "name": "ipython",
    "version": 3
   },
   "file_extension": ".py",
   "mimetype": "text/x-python",
   "name": "python",
   "nbconvert_exporter": "python",
   "pygments_lexer": "ipython3",
   "version": "3.11.2"
  },
  "orig_nbformat": 4
 },
 "nbformat": 4,
 "nbformat_minor": 2
}
